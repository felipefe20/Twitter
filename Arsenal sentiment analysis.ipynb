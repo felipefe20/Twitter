{
 "cells": [
  {
   "cell_type": "markdown",
   "metadata": {},
   "source": [
    "Arsenal tweets analysis before and after some games\n",
    "\n"
   ]
  },
  {
   "cell_type": "code",
   "execution_count": 27,
   "metadata": {},
   "outputs": [],
   "source": [
    "# For sending GET requests from the API\n",
    "import requests\n",
    "# For saving access tokens and for file management when creating and adding to the dataset\n",
    "import os\n",
    "# For dealing with json responses we receive from the API\n",
    "import json\n",
    "# For displaying the data after\n",
    "import pandas as pd\n",
    "# For saving the response data in CSV format\n",
    "import csv\n",
    "# For parsing the dates received from twitter in readable formats\n",
    "import datetime\n",
    "import dateutil.parser\n",
    "import unicodedata\n",
    "#To add wait time between requests\n",
    "import time\n",
    "import tweepy   \n",
    "from credentials import *\n",
    "import requests"
   ]
  },
  {
   "cell_type": "code",
   "execution_count": 28,
   "metadata": {},
   "outputs": [],
   "source": [
    "import tweepy\n",
    "\n",
    "auth = tweepy.AppAuthHandler(API_KEY, API_SECRET_KEY)\n",
    "api = tweepy.API(auth)"
   ]
  },
  {
   "cell_type": "code",
   "execution_count": 25,
   "metadata": {},
   "outputs": [],
   "source": [
    "def run_query(query, num_tweets):\n",
    "    #query = f\"{hashtag} -filter:retweets until:2022-02-25 since:2022-02-24\"\n",
    "    #tweets= tweepy.Cursor(api.search_tweets, query,count=num_tweets, lang='en').items(10000)\n",
    "\n",
    "    tweets = api.search_tweets(q=query, lang=\"en\",count=num_tweets)\n",
    "\n",
    "    my_list_of_dicts = []\n",
    "    for each_json_tweet in tweets:\n",
    "        my_list_of_dicts.append(each_json_tweet._json)\n",
    "        \n",
    "    #with open('Arsenat_hashtag.txt', 'w') as file:\n",
    "    #    file.write(json.dumps(my_list_of_dicts, indent=4))\n",
    "\n",
    "    query_df=pd.json_normalize(my_list_of_dicts)\n",
    "\n",
    "\n",
    "    return query_df\n"
   ]
  },
  {
   "cell_type": "code",
   "execution_count": 35,
   "metadata": {},
   "outputs": [],
   "source": [
    "query=\"#Arsenal Arsenal best since:2022-03-04 until:2022-03-05 -filter:retweets\"\n",
    "\n",
    "df=run_query(query, 10)"
   ]
  },
  {
   "cell_type": "code",
   "execution_count": 46,
   "metadata": {},
   "outputs": [],
   "source": [
    "df=df[[\"created_at\",\"text\",\"retweet_count\",\"favorite_count\",\"user.screen_name\"\n",
    "                                ,\"user.verified\",\"user.followers_count\",\n",
    "                                \"user.friends_count\",\"user.listed_count\",\"user.location\",\"user.description\"\n",
    "                                ,\"user.favourites_count\",\"user.statuses_count\"]]"
   ]
  },
  {
   "cell_type": "code",
   "execution_count": null,
   "metadata": {},
   "outputs": [],
   "source": [
    "import re\n",
    "def extract_hashtags(df):\n",
    "    list=df[\"text\"].to_list()\n",
    "    allwords=\" \".join([tweet for tweet in list]).lower()\n",
    "\n",
    "    hashtags=re.findall(r\"[#]\\w+\", allwords)\n",
    "\n",
    "    hashtags_df=pd.Series(hashtags).value_counts().to_frame().reset_index().rename(columns={\"index\":\"Hashtag\",0:\"Count_Hashtag\"})\n",
    "\n",
    "    return hashtags_df\n",
    "\n",
    "def extract_mentions(df):\n",
    "    list=df[\"text\"].to_list()\n",
    "    allwords=\" \".join([tweet for tweet in list]).lower()\n",
    "\n",
    "    mentions=re.findall(r\"[@]\\w+\", allwords)\n",
    "\n",
    "    mentions_df=pd.Series(mentions).value_counts().to_frame().reset_index().rename(columns={\"index\":\"User\",0:\"Count_Mentions\"})\n",
    "\n",
    "    return mentions_df"
   ]
  },
  {
   "cell_type": "code",
   "execution_count": 54,
   "metadata": {},
   "outputs": [
    {
     "data": {
      "text/plain": [
       "['#arsenal', '#espn', '#arsenal']"
      ]
     },
     "execution_count": 54,
     "metadata": {},
     "output_type": "execute_result"
    }
   ],
   "source": [
    "import re\n",
    "\n",
    "\n"
   ]
  },
  {
   "cell_type": "code",
   "execution_count": 58,
   "metadata": {},
   "outputs": [
    {
     "data": {
      "text/html": [
       "<div><div id=c4d923d7-a52d-4779-964e-9fb89b4f2bb9 style=\"display:none; background-color:#9D6CFF; color:white; width:200px; height:30px; padding-left:5px; border-radius:4px; flex-direction:row; justify-content:space-around; align-items:center;\" onmouseover=\"this.style.backgroundColor='#BA9BF8'\" onmouseout=\"this.style.backgroundColor='#9D6CFF'\" onclick=\"window.commands?.execute('create-mitosheet-from-dataframe-output');\">See Full Dataframe in Mito</div> <script> if (window.commands.hasCommand('create-mitosheet-from-dataframe-output')) document.getElementById('c4d923d7-a52d-4779-964e-9fb89b4f2bb9').style.display = 'flex' </script> <table border=\"1\" class=\"dataframe\">\n",
       "  <thead>\n",
       "    <tr style=\"text-align: right;\">\n",
       "      <th></th>\n",
       "      <th>Hashtag</th>\n",
       "      <th>Count_Hashtag</th>\n",
       "    </tr>\n",
       "  </thead>\n",
       "  <tbody>\n",
       "    <tr>\n",
       "      <th>0</th>\n",
       "      <td>#arsenal</td>\n",
       "      <td>2</td>\n",
       "    </tr>\n",
       "    <tr>\n",
       "      <th>1</th>\n",
       "      <td>#espn</td>\n",
       "      <td>1</td>\n",
       "    </tr>\n",
       "  </tbody>\n",
       "</table></div>"
      ],
      "text/plain": [
       "    Hashtag  Count_Hashtag\n",
       "0  #arsenal              2\n",
       "1     #espn              1"
      ]
     },
     "execution_count": 58,
     "metadata": {},
     "output_type": "execute_result"
    }
   ],
   "source": []
  },
  {
   "cell_type": "code",
   "execution_count": null,
   "metadata": {},
   "outputs": [],
   "source": []
  }
 ],
 "metadata": {
  "interpreter": {
   "hash": "7b3ae5df8ccc384fd4c1513cc41cf72d84a7cda7afdd21b695da2522ed0186e2"
  },
  "kernelspec": {
   "display_name": "Python 3.9.7 ('Projects')",
   "language": "python",
   "name": "python3"
  },
  "language_info": {
   "codemirror_mode": {
    "name": "ipython",
    "version": 3
   },
   "file_extension": ".py",
   "mimetype": "text/x-python",
   "name": "python",
   "nbconvert_exporter": "python",
   "pygments_lexer": "ipython3",
   "version": "3.9.7"
  },
  "orig_nbformat": 4
 },
 "nbformat": 4,
 "nbformat_minor": 2
}
